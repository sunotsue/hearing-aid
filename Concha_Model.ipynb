{
 "cells": [
  {
   "cell_type": "code",
   "execution_count": 1,
   "id": "expired-spanish",
   "metadata": {},
   "outputs": [],
   "source": [
    "import os, sys\n",
    "import pandas as pd \n",
    "import numpy as np\n",
    "import plotly.graph_objects as go\n",
    "import plotly.express as px\n",
    "import matplotlib.pyplot as plt\n",
    "from datetime import datetime\n",
    "import datetime as dt\n",
    "import featexp\n",
    "import sklearn\n",
    "from scipy.stats import *\n",
    "from math import sqrt\n",
    "os.chdir(\"/Users/supark/Downloads\")\n",
    "pd.set_option('display.max_columns', 500)\n",
    "pd.set_option('display.max_rows', 500)"
   ]
  },
  {
   "cell_type": "markdown",
   "id": "apparent-change",
   "metadata": {},
   "source": [
    "# data cleaning "
   ]
  },
  {
   "cell_type": "code",
   "execution_count": 2,
   "id": "chemical-prison",
   "metadata": {},
   "outputs": [
    {
     "name": "stderr",
     "output_type": "stream",
     "text": [
      "/Users/supark/opt/anaconda3/lib/python3.7/site-packages/IPython/core/interactiveshell.py:3156: DtypeWarning: Columns (2,3,4,5,6,7,8,9,10,11,12,13,14,15) have mixed types.Specify dtype option on import or set low_memory=False.\n",
      "  interactivity=interactivity, compiler=compiler, result=result)\n"
     ]
    }
   ],
   "source": [
    "data = pd.read_csv('concha_data.csv')"
   ]
  },
  {
   "cell_type": "code",
   "execution_count": 3,
   "id": "quantitative-batman",
   "metadata": {},
   "outputs": [
    {
     "data": {
      "text/html": [
       "<div>\n",
       "<style scoped>\n",
       "    .dataframe tbody tr th:only-of-type {\n",
       "        vertical-align: middle;\n",
       "    }\n",
       "\n",
       "    .dataframe tbody tr th {\n",
       "        vertical-align: top;\n",
       "    }\n",
       "\n",
       "    .dataframe thead th {\n",
       "        text-align: right;\n",
       "    }\n",
       "</style>\n",
       "<table border=\"1\" class=\"dataframe\">\n",
       "  <thead>\n",
       "    <tr style=\"text-align: right;\">\n",
       "      <th></th>\n",
       "      <th>test_date</th>\n",
       "      <th>nid</th>\n",
       "      <th>L500k</th>\n",
       "      <th>L1k</th>\n",
       "      <th>L2k</th>\n",
       "      <th>L3k</th>\n",
       "      <th>L4k</th>\n",
       "      <th>L6k</th>\n",
       "      <th>L8k</th>\n",
       "      <th>R500k</th>\n",
       "      <th>R1k</th>\n",
       "      <th>R2k</th>\n",
       "      <th>R3k</th>\n",
       "      <th>R4k</th>\n",
       "      <th>R6k</th>\n",
       "      <th>R8k</th>\n",
       "      <th>gender</th>\n",
       "      <th>naics</th>\n",
       "      <th>age_group</th>\n",
       "      <th>region</th>\n",
       "      <th>NAICS_descr</th>\n",
       "    </tr>\n",
       "  </thead>\n",
       "  <tbody>\n",
       "    <tr>\n",
       "      <th>0</th>\n",
       "      <td>08-FEB-2005</td>\n",
       "      <td>1</td>\n",
       "      <td>10</td>\n",
       "      <td>5</td>\n",
       "      <td>5</td>\n",
       "      <td>15</td>\n",
       "      <td>10</td>\n",
       "      <td>5</td>\n",
       "      <td>25</td>\n",
       "      <td>20</td>\n",
       "      <td>20</td>\n",
       "      <td>15</td>\n",
       "      <td>10</td>\n",
       "      <td>10</td>\n",
       "      <td>25</td>\n",
       "      <td>45</td>\n",
       "      <td>M</td>\n",
       "      <td>331512</td>\n",
       "      <td>4.0</td>\n",
       "      <td>MA</td>\n",
       "      <td>Steel Investment Foundries</td>\n",
       "    </tr>\n",
       "    <tr>\n",
       "      <th>1</th>\n",
       "      <td>17-MAR-2009</td>\n",
       "      <td>1</td>\n",
       "      <td>15</td>\n",
       "      <td>10</td>\n",
       "      <td>5</td>\n",
       "      <td>15</td>\n",
       "      <td>5</td>\n",
       "      <td>10</td>\n",
       "      <td>25</td>\n",
       "      <td>15</td>\n",
       "      <td>20</td>\n",
       "      <td>20</td>\n",
       "      <td>15</td>\n",
       "      <td>10</td>\n",
       "      <td>35</td>\n",
       "      <td>55</td>\n",
       "      <td>M</td>\n",
       "      <td>331512</td>\n",
       "      <td>5.0</td>\n",
       "      <td>MA</td>\n",
       "      <td>Steel Investment Foundries</td>\n",
       "    </tr>\n",
       "    <tr>\n",
       "      <th>2</th>\n",
       "      <td>08-FEB-2005</td>\n",
       "      <td>2</td>\n",
       "      <td>5</td>\n",
       "      <td>10</td>\n",
       "      <td>20</td>\n",
       "      <td>20</td>\n",
       "      <td>15</td>\n",
       "      <td>20</td>\n",
       "      <td>0</td>\n",
       "      <td>5</td>\n",
       "      <td>0</td>\n",
       "      <td>5</td>\n",
       "      <td>10</td>\n",
       "      <td>10</td>\n",
       "      <td>15</td>\n",
       "      <td>15</td>\n",
       "      <td>M</td>\n",
       "      <td>331512</td>\n",
       "      <td>2.0</td>\n",
       "      <td>MA</td>\n",
       "      <td>Steel Investment Foundries</td>\n",
       "    </tr>\n",
       "    <tr>\n",
       "      <th>3</th>\n",
       "      <td>29-FEB-2008</td>\n",
       "      <td>2</td>\n",
       "      <td>15</td>\n",
       "      <td>5</td>\n",
       "      <td>15</td>\n",
       "      <td>20</td>\n",
       "      <td>20</td>\n",
       "      <td>15</td>\n",
       "      <td>15</td>\n",
       "      <td>10</td>\n",
       "      <td>0</td>\n",
       "      <td>10</td>\n",
       "      <td>15</td>\n",
       "      <td>30</td>\n",
       "      <td>20</td>\n",
       "      <td>15</td>\n",
       "      <td>M</td>\n",
       "      <td>331512</td>\n",
       "      <td>3.0</td>\n",
       "      <td>MA</td>\n",
       "      <td>Steel Investment Foundries</td>\n",
       "    </tr>\n",
       "    <tr>\n",
       "      <th>4</th>\n",
       "      <td>08-FEB-2006</td>\n",
       "      <td>3</td>\n",
       "      <td>25</td>\n",
       "      <td>20</td>\n",
       "      <td>15</td>\n",
       "      <td>20</td>\n",
       "      <td>35</td>\n",
       "      <td>25</td>\n",
       "      <td>15</td>\n",
       "      <td>20</td>\n",
       "      <td>20</td>\n",
       "      <td>10</td>\n",
       "      <td>15</td>\n",
       "      <td>40</td>\n",
       "      <td>30</td>\n",
       "      <td>30</td>\n",
       "      <td>M</td>\n",
       "      <td>331512</td>\n",
       "      <td>3.0</td>\n",
       "      <td>MA</td>\n",
       "      <td>Steel Investment Foundries</td>\n",
       "    </tr>\n",
       "  </tbody>\n",
       "</table>\n",
       "</div>"
      ],
      "text/plain": [
       "     test_date  nid L500k L1k L2k L3k L4k L6k L8k R500k R1k R2k R3k R4k R6k  \\\n",
       "0  08-FEB-2005    1    10   5   5  15  10   5  25    20  20  15  10  10  25   \n",
       "1  17-MAR-2009    1    15  10   5  15   5  10  25    15  20  20  15  10  35   \n",
       "2  08-FEB-2005    2     5  10  20  20  15  20   0     5   0   5  10  10  15   \n",
       "3  29-FEB-2008    2    15   5  15  20  20  15  15    10   0  10  15  30  20   \n",
       "4  08-FEB-2006    3    25  20  15  20  35  25  15    20  20  10  15  40  30   \n",
       "\n",
       "  R8k gender   naics  age_group region                 NAICS_descr  \n",
       "0  45      M  331512        4.0     MA  Steel Investment Foundries  \n",
       "1  55      M  331512        5.0     MA  Steel Investment Foundries  \n",
       "2  15      M  331512        2.0     MA  Steel Investment Foundries  \n",
       "3  15      M  331512        3.0     MA  Steel Investment Foundries  \n",
       "4  30      M  331512        3.0     MA  Steel Investment Foundries  "
      ]
     },
     "execution_count": 3,
     "metadata": {},
     "output_type": "execute_result"
    }
   ],
   "source": [
    "data.head()"
   ]
  },
  {
   "cell_type": "code",
   "execution_count": 4,
   "id": "advisory-wisconsin",
   "metadata": {},
   "outputs": [
    {
     "data": {
      "text/html": [
       "<div>\n",
       "<style scoped>\n",
       "    .dataframe tbody tr th:only-of-type {\n",
       "        vertical-align: middle;\n",
       "    }\n",
       "\n",
       "    .dataframe tbody tr th {\n",
       "        vertical-align: top;\n",
       "    }\n",
       "\n",
       "    .dataframe thead th {\n",
       "        text-align: right;\n",
       "    }\n",
       "</style>\n",
       "<table border=\"1\" class=\"dataframe\">\n",
       "  <thead>\n",
       "    <tr style=\"text-align: right;\">\n",
       "      <th></th>\n",
       "      <th>nid</th>\n",
       "      <th>naics</th>\n",
       "      <th>age_group</th>\n",
       "    </tr>\n",
       "  </thead>\n",
       "  <tbody>\n",
       "    <tr>\n",
       "      <th>count</th>\n",
       "      <td>2.944670e+06</td>\n",
       "      <td>2.944670e+06</td>\n",
       "      <td>2.927950e+06</td>\n",
       "    </tr>\n",
       "    <tr>\n",
       "      <th>mean</th>\n",
       "      <td>2.079236e+06</td>\n",
       "      <td>3.746427e+05</td>\n",
       "      <td>2.812442e+00</td>\n",
       "    </tr>\n",
       "    <tr>\n",
       "      <th>std</th>\n",
       "      <td>1.225354e+06</td>\n",
       "      <td>1.327616e+05</td>\n",
       "      <td>1.185800e+00</td>\n",
       "    </tr>\n",
       "    <tr>\n",
       "      <th>min</th>\n",
       "      <td>1.000000e+00</td>\n",
       "      <td>2.300000e+01</td>\n",
       "      <td>1.000000e+00</td>\n",
       "    </tr>\n",
       "    <tr>\n",
       "      <th>25%</th>\n",
       "      <td>5.805815e+05</td>\n",
       "      <td>3.219110e+05</td>\n",
       "      <td>2.000000e+00</td>\n",
       "    </tr>\n",
       "    <tr>\n",
       "      <th>50%</th>\n",
       "      <td>2.504568e+06</td>\n",
       "      <td>3.323120e+05</td>\n",
       "      <td>3.000000e+00</td>\n",
       "    </tr>\n",
       "    <tr>\n",
       "      <th>75%</th>\n",
       "      <td>3.080831e+06</td>\n",
       "      <td>4.222100e+05</td>\n",
       "      <td>4.000000e+00</td>\n",
       "    </tr>\n",
       "    <tr>\n",
       "      <th>max</th>\n",
       "      <td>3.659841e+06</td>\n",
       "      <td>9.281100e+05</td>\n",
       "      <td>5.000000e+00</td>\n",
       "    </tr>\n",
       "  </tbody>\n",
       "</table>\n",
       "</div>"
      ],
      "text/plain": [
       "                nid         naics     age_group\n",
       "count  2.944670e+06  2.944670e+06  2.927950e+06\n",
       "mean   2.079236e+06  3.746427e+05  2.812442e+00\n",
       "std    1.225354e+06  1.327616e+05  1.185800e+00\n",
       "min    1.000000e+00  2.300000e+01  1.000000e+00\n",
       "25%    5.805815e+05  3.219110e+05  2.000000e+00\n",
       "50%    2.504568e+06  3.323120e+05  3.000000e+00\n",
       "75%    3.080831e+06  4.222100e+05  4.000000e+00\n",
       "max    3.659841e+06  9.281100e+05  5.000000e+00"
      ]
     },
     "execution_count": 4,
     "metadata": {},
     "output_type": "execute_result"
    }
   ],
   "source": [
    "data.describe()"
   ]
  },
  {
   "cell_type": "code",
   "execution_count": 5,
   "id": "celtic-dynamics",
   "metadata": {},
   "outputs": [
    {
     "data": {
      "text/html": [
       "<div>\n",
       "<style scoped>\n",
       "    .dataframe tbody tr th:only-of-type {\n",
       "        vertical-align: middle;\n",
       "    }\n",
       "\n",
       "    .dataframe tbody tr th {\n",
       "        vertical-align: top;\n",
       "    }\n",
       "\n",
       "    .dataframe thead th {\n",
       "        text-align: right;\n",
       "    }\n",
       "</style>\n",
       "<table border=\"1\" class=\"dataframe\">\n",
       "  <thead>\n",
       "    <tr style=\"text-align: right;\">\n",
       "      <th></th>\n",
       "      <th>test_date</th>\n",
       "      <th>nid</th>\n",
       "      <th>gender</th>\n",
       "      <th>naics</th>\n",
       "      <th>age_group</th>\n",
       "      <th>region</th>\n",
       "      <th>NAICS_descr</th>\n",
       "      <th>500k</th>\n",
       "      <th>1k</th>\n",
       "      <th>2k</th>\n",
       "      <th>3k</th>\n",
       "      <th>4k</th>\n",
       "      <th>6k</th>\n",
       "      <th>8k</th>\n",
       "      <th>left</th>\n",
       "    </tr>\n",
       "  </thead>\n",
       "  <tbody>\n",
       "    <tr>\n",
       "      <th>0</th>\n",
       "      <td>08-FEB-2005</td>\n",
       "      <td>1</td>\n",
       "      <td>M</td>\n",
       "      <td>331512</td>\n",
       "      <td>4.0</td>\n",
       "      <td>MA</td>\n",
       "      <td>Steel Investment Foundries</td>\n",
       "      <td>10</td>\n",
       "      <td>5</td>\n",
       "      <td>5</td>\n",
       "      <td>15</td>\n",
       "      <td>10</td>\n",
       "      <td>5</td>\n",
       "      <td>25</td>\n",
       "      <td>1</td>\n",
       "    </tr>\n",
       "    <tr>\n",
       "      <th>1</th>\n",
       "      <td>17-MAR-2009</td>\n",
       "      <td>1</td>\n",
       "      <td>M</td>\n",
       "      <td>331512</td>\n",
       "      <td>5.0</td>\n",
       "      <td>MA</td>\n",
       "      <td>Steel Investment Foundries</td>\n",
       "      <td>15</td>\n",
       "      <td>10</td>\n",
       "      <td>5</td>\n",
       "      <td>15</td>\n",
       "      <td>5</td>\n",
       "      <td>10</td>\n",
       "      <td>25</td>\n",
       "      <td>1</td>\n",
       "    </tr>\n",
       "    <tr>\n",
       "      <th>2</th>\n",
       "      <td>08-FEB-2005</td>\n",
       "      <td>2</td>\n",
       "      <td>M</td>\n",
       "      <td>331512</td>\n",
       "      <td>2.0</td>\n",
       "      <td>MA</td>\n",
       "      <td>Steel Investment Foundries</td>\n",
       "      <td>5</td>\n",
       "      <td>10</td>\n",
       "      <td>20</td>\n",
       "      <td>20</td>\n",
       "      <td>15</td>\n",
       "      <td>20</td>\n",
       "      <td>0</td>\n",
       "      <td>1</td>\n",
       "    </tr>\n",
       "    <tr>\n",
       "      <th>3</th>\n",
       "      <td>29-FEB-2008</td>\n",
       "      <td>2</td>\n",
       "      <td>M</td>\n",
       "      <td>331512</td>\n",
       "      <td>3.0</td>\n",
       "      <td>MA</td>\n",
       "      <td>Steel Investment Foundries</td>\n",
       "      <td>15</td>\n",
       "      <td>5</td>\n",
       "      <td>15</td>\n",
       "      <td>20</td>\n",
       "      <td>20</td>\n",
       "      <td>15</td>\n",
       "      <td>15</td>\n",
       "      <td>1</td>\n",
       "    </tr>\n",
       "    <tr>\n",
       "      <th>4</th>\n",
       "      <td>08-FEB-2006</td>\n",
       "      <td>3</td>\n",
       "      <td>M</td>\n",
       "      <td>331512</td>\n",
       "      <td>3.0</td>\n",
       "      <td>MA</td>\n",
       "      <td>Steel Investment Foundries</td>\n",
       "      <td>25</td>\n",
       "      <td>20</td>\n",
       "      <td>15</td>\n",
       "      <td>20</td>\n",
       "      <td>35</td>\n",
       "      <td>25</td>\n",
       "      <td>15</td>\n",
       "      <td>1</td>\n",
       "    </tr>\n",
       "  </tbody>\n",
       "</table>\n",
       "</div>"
      ],
      "text/plain": [
       "     test_date  nid gender   naics  age_group region  \\\n",
       "0  08-FEB-2005    1      M  331512        4.0     MA   \n",
       "1  17-MAR-2009    1      M  331512        5.0     MA   \n",
       "2  08-FEB-2005    2      M  331512        2.0     MA   \n",
       "3  29-FEB-2008    2      M  331512        3.0     MA   \n",
       "4  08-FEB-2006    3      M  331512        3.0     MA   \n",
       "\n",
       "                  NAICS_descr 500k  1k  2k  3k  4k  6k  8k  left  \n",
       "0  Steel Investment Foundries   10   5   5  15  10   5  25     1  \n",
       "1  Steel Investment Foundries   15  10   5  15   5  10  25     1  \n",
       "2  Steel Investment Foundries    5  10  20  20  15  20   0     1  \n",
       "3  Steel Investment Foundries   15   5  15  20  20  15  15     1  \n",
       "4  Steel Investment Foundries   25  20  15  20  35  25  15     1  "
      ]
     },
     "execution_count": 5,
     "metadata": {},
     "output_type": "execute_result"
    }
   ],
   "source": [
    "# set other parameters as index \n",
    "data = data.set_index(['test_date','nid', 'gender', 'naics', 'age_group', 'region', 'NAICS_descr'])\n",
    "\n",
    "# divide left and right to merge together \n",
    "left = data.iloc[:,0:7]\n",
    "right = data.iloc[:,7:14]\n",
    "\n",
    "left = left.reset_index()\n",
    "right = right.reset_index()\n",
    "\n",
    "# create a new column called \"left\" to distinguish left from right if needed\n",
    "left['left'] = 1  \n",
    "right['left'] = 0 \n",
    "\n",
    "# rename columns to remove L/R\n",
    "left = left.rename(columns={'L500k':'500k', 'L1k': '1k', 'L2k': '2k', 'L3k': '3k', 'L4k': '4k', 'L6k':'6k', 'L8k':'8k'})\n",
    "right = right.rename(columns={'R500k':'500k', 'R1k': '1k', 'R2k': '2k', 'R3k': '3k', 'R4k': '4k', 'R6k':'6k', 'R8k':'8k'})\n",
    "\n",
    "# concat\n",
    "merge = pd.concat([left, right])\n",
    "merge.head()"
   ]
  },
  {
   "cell_type": "code",
   "execution_count": 6,
   "id": "numeric-translator",
   "metadata": {},
   "outputs": [],
   "source": [
    "# remove rows with at least one na (data set is already large)\n",
    "merge.isna().sum() \n",
    "merge = merge.dropna() \n",
    "\n"
   ]
  },
  {
   "cell_type": "code",
   "execution_count": 7,
   "id": "bright-norwegian",
   "metadata": {},
   "outputs": [
    {
     "name": "stdout",
     "output_type": "stream",
     "text": [
      "<class 'pandas.core.frame.DataFrame'>\n",
      "MultiIndex: 4174125 entries, ('08-FEB-2005', 1, 331512, 'Steel Investment Foundries', 'M', 4.0, 'MA') to ('14-APR-2008', 3659841, 327121, 'Brick and Structural Clay Tile Manufacturing', 'M', 5.0, 'SO')\n",
      "Data columns (total 8 columns):\n",
      " #   Column  Dtype  \n",
      "---  ------  -----  \n",
      " 0   500k    float64\n",
      " 1   1k      float64\n",
      " 2   2k      float64\n",
      " 3   3k      float64\n",
      " 4   4k      float64\n",
      " 5   6k      float64\n",
      " 6   8k      float64\n",
      " 7   left    int64  \n",
      "dtypes: float64(7), int64(1)\n",
      "memory usage: 384.8+ MB\n"
     ]
    }
   ],
   "source": [
    "# exploratory data analysis \n",
    "\n",
    "# there are audiogram cells that have \"**\" instead of actual numbers written. remove those.\n",
    "merge = merge.set_index(['test_date','nid', 'naics', 'NAICS_descr', 'gender', 'age_group', 'region'])  \n",
    "merge_clean = merge.apply(lambda x: pd.to_numeric(x, errors='coerce')).dropna() \n",
    "merge_clean.info() \n"
   ]
  },
  {
   "cell_type": "code",
   "execution_count": 10,
   "id": "guided-jenny",
   "metadata": {},
   "outputs": [
    {
     "name": "stdout",
     "output_type": "stream",
     "text": [
      "<class 'pandas.core.frame.DataFrame'>\n",
      "RangeIndex: 4174125 entries, 0 to 4174124\n",
      "Data columns (total 26 columns):\n",
      " #   Column       Dtype  \n",
      "---  ------       -----  \n",
      " 0   index        int64  \n",
      " 1   test_date    object \n",
      " 2   nid          int64  \n",
      " 3   naics        int64  \n",
      " 4   NAICS_descr  object \n",
      " 5   500k         float64\n",
      " 6   1k           float64\n",
      " 7   2k           float64\n",
      " 8   3k           float64\n",
      " 9   4k           float64\n",
      " 10  6k           float64\n",
      " 11  8k           float64\n",
      " 12  left         int64  \n",
      " 13  F            uint8  \n",
      " 14  M            uint8  \n",
      " 15  MA           uint8  \n",
      " 16  MW           uint8  \n",
      " 17  NE           uint8  \n",
      " 18  SO           uint8  \n",
      " 19  SW           uint8  \n",
      " 20  WE           uint8  \n",
      " 21  1.0          uint8  \n",
      " 22  2.0          uint8  \n",
      " 23  3.0          uint8  \n",
      " 24  4.0          uint8  \n",
      " 25  5.0          uint8  \n",
      "dtypes: float64(7), int64(4), object(2), uint8(13)\n",
      "memory usage: 465.7+ MB\n"
     ]
    }
   ],
   "source": [
    "# create dummy variables for gender, region, and age group to see if they have any correlation with the audiogram columns \n",
    "merge_clean = merge_clean.reset_index()\n",
    "gender_dummies = pd.get_dummies(merge_clean.gender)\n",
    "region_dummies = pd.get_dummies(merge_clean.region)\n",
    "\n",
    "merge1 = pd.concat([merge_clean, gender_dummies], axis=1)\n",
    "merge2 = pd.concat([merge1, region_dummies], axis=1)\n",
    "\n",
    "age_dummies = pd.get_dummies(merge2.age_group)\n",
    "merge3 = pd.concat([merge2, age_dummies], axis=1) \n",
    "\n",
    "merge3 = merge3.drop(columns=['age_group', 'gender', 'region']) \n",
    "merge3.head()\n",
    "merge3.info()\n"
   ]
  },
  {
   "cell_type": "code",
   "execution_count": 11,
   "id": "previous-modification",
   "metadata": {},
   "outputs": [],
   "source": [
    "merge3.set_index(['test_date','nid', 'naics', 'NAICS_descr'], inplace=True)  "
   ]
  },
  {
   "cell_type": "code",
   "execution_count": 13,
   "id": "broad-rocket",
   "metadata": {},
   "outputs": [
    {
     "data": {
      "image/png": "[encoded data removed]",
      "text/plain": [
       "<Figure size 288x288 with 2 Axes>"
      ]
     },
     "metadata": {
      "needs_background": "light"
     },
     "output_type": "display_data"
    }
   ],
   "source": [
    "# let's check for correlation amongst the audiogram variables and left/right. \n",
    "# between the audiogram variables and other demographic variables \n",
    "cov_data = np.corrcoef(merge3[['500k', '1k', '2k', '3k', '4k', '6k', '8k', 'left']].T)\n",
    "\n",
    "img = plt.matshow(cov_data, cmap=plt.cm.rainbow)\n",
    "plt.colorbar(img, ticks = [-1, 0, 1], fraction=0.045)\n",
    "\n",
    "for x in range(cov_data.shape[0]):\n",
    "    for y in range(cov_data.shape[1]):\n",
    "        plt.text(x, y, \"%0.2f\" % cov_data[x,y], size=12, color='black', ha=\"center\", va=\"center\")\n",
    "        \n",
    "plt.show()"
   ]
  },
  {
   "cell_type": "code",
   "execution_count": null,
   "id": "exterior-nitrogen",
   "metadata": {},
   "outputs": [],
   "source": [
    "# correlation between (3k and 4k), (4k and 6k), (3k and 6k), (500k and 1k), (1k and 2k), and (2k and 3k).  \n",
    "# left/right seems completely independent from the frequency performance.  "
   ]
  },
  {
   "cell_type": "code",
   "execution_count": 14,
   "id": "metric-startup",
   "metadata": {},
   "outputs": [
    {
     "data": {
      "image/png": "[encoded data removed]",
      "text/plain": [
       "<Figure size 288x288 with 2 Axes>"
      ]
     },
     "metadata": {
      "needs_background": "light"
     },
     "output_type": "display_data"
    }
   ],
   "source": [
    "# check with gender \n",
    "\n",
    "cov_data = np.corrcoef(merge3[['500k', '1k', '2k', '3k', '4k', '6k', '8k', 'F', 'M']].T) \n",
    "\n",
    "img = plt.matshow(cov_data, cmap=plt.cm.rainbow)\n",
    "plt.colorbar(img, ticks = [-1, 0, 1], fraction=0.045)\n",
    "\n",
    "for x in range(cov_data.shape[0]):\n",
    "    for y in range(cov_data.shape[1]):\n",
    "        plt.text(x, y, \"%0.2f\" % cov_data[x,y], size=12, color='black', ha=\"center\", va=\"center\")\n",
    "        \n",
    "plt.show()"
   ]
  },
  {
   "cell_type": "code",
   "execution_count": 17,
   "id": "ambient-metabolism",
   "metadata": {},
   "outputs": [
    {
     "data": {
      "image/png": "[encoded data removed]",
      "text/plain": [
       "<Figure size 288x288 with 2 Axes>"
      ]
     },
     "metadata": {
      "needs_background": "light"
     },
     "output_type": "display_data"
    }
   ],
   "source": [
    "# check with region \n",
    "\n",
    "cov_data = np.corrcoef(merge3[['500k', '1k', '2k', '3k', '4k', '6k', '8k', 'MA', 'MW', 'NE', 'SO', 'SW', 'WE']].T)\n",
    "\n",
    "img = plt.matshow(cov_data, cmap=plt.cm.rainbow)\n",
    "plt.colorbar(img, ticks = [-1, 0, 1], fraction=0.045)\n",
    "\n",
    "for x in range(cov_data.shape[0]):\n",
    "    for y in range(cov_data.shape[1]):\n",
    "        plt.text(x, y, \"%0.2f\" % cov_data[x,y], size=12, color='black', ha=\"center\", va=\"center\")\n",
    "        \n",
    "plt.show() "
   ]
  },
  {
   "cell_type": "code",
   "execution_count": null,
   "id": "accomplished-multiple",
   "metadata": {},
   "outputs": [],
   "source": [
    "# gender and region also seems to have very little corrleation with the audiograms. "
   ]
  },
  {
   "cell_type": "code",
   "execution_count": 19,
   "id": "passive-optics",
   "metadata": {},
   "outputs": [],
   "source": [
    "merge3 = merge3.drop(columns=['index'])"
   ]
  },
  {
   "cell_type": "code",
   "execution_count": 21,
   "id": "chicken-beijing",
   "metadata": {},
   "outputs": [],
   "source": [
    "merge4 = merge3.drop(merge3.iloc[:, 8:21], axis = 1)"
   ]
  },
  {
   "cell_type": "code",
   "execution_count": 23,
   "id": "uniform-argument",
   "metadata": {},
   "outputs": [],
   "source": [
    "merge4 = merge4.reset_index()"
   ]
  },
  {
   "cell_type": "code",
   "execution_count": 29,
   "id": "social-poverty",
   "metadata": {},
   "outputs": [
    {
     "data": {
      "text/html": [
       "<div>\n",
       "<style scoped>\n",
       "    .dataframe tbody tr th:only-of-type {\n",
       "        vertical-align: middle;\n",
       "    }\n",
       "\n",
       "    .dataframe tbody tr th {\n",
       "        vertical-align: top;\n",
       "    }\n",
       "\n",
       "    .dataframe thead th {\n",
       "        text-align: right;\n",
       "    }\n",
       "</style>\n",
       "<table border=\"1\" class=\"dataframe\">\n",
       "  <thead>\n",
       "    <tr style=\"text-align: right;\">\n",
       "      <th></th>\n",
       "      <th>test_date</th>\n",
       "      <th>nid</th>\n",
       "      <th>naics</th>\n",
       "      <th>NAICS_descr</th>\n",
       "      <th>500k</th>\n",
       "      <th>1k</th>\n",
       "      <th>2k</th>\n",
       "      <th>3k</th>\n",
       "      <th>4k</th>\n",
       "      <th>6k</th>\n",
       "      <th>8k</th>\n",
       "      <th>left</th>\n",
       "    </tr>\n",
       "  </thead>\n",
       "  <tbody>\n",
       "    <tr>\n",
       "      <th>0</th>\n",
       "      <td>08-FEB-2005</td>\n",
       "      <td>1</td>\n",
       "      <td>331512</td>\n",
       "      <td>Steel Investment Foundries</td>\n",
       "      <td>10.0</td>\n",
       "      <td>5.0</td>\n",
       "      <td>5.0</td>\n",
       "      <td>15.0</td>\n",
       "      <td>10.0</td>\n",
       "      <td>5.0</td>\n",
       "      <td>25.0</td>\n",
       "      <td>1</td>\n",
       "    </tr>\n",
       "    <tr>\n",
       "      <th>1</th>\n",
       "      <td>17-MAR-2009</td>\n",
       "      <td>1</td>\n",
       "      <td>331512</td>\n",
       "      <td>Steel Investment Foundries</td>\n",
       "      <td>15.0</td>\n",
       "      <td>10.0</td>\n",
       "      <td>5.0</td>\n",
       "      <td>15.0</td>\n",
       "      <td>5.0</td>\n",
       "      <td>10.0</td>\n",
       "      <td>25.0</td>\n",
       "      <td>1</td>\n",
       "    </tr>\n",
       "    <tr>\n",
       "      <th>2</th>\n",
       "      <td>08-FEB-2005</td>\n",
       "      <td>2</td>\n",
       "      <td>331512</td>\n",
       "      <td>Steel Investment Foundries</td>\n",
       "      <td>5.0</td>\n",
       "      <td>10.0</td>\n",
       "      <td>20.0</td>\n",
       "      <td>20.0</td>\n",
       "      <td>15.0</td>\n",
       "      <td>20.0</td>\n",
       "      <td>0.0</td>\n",
       "      <td>1</td>\n",
       "    </tr>\n",
       "    <tr>\n",
       "      <th>3</th>\n",
       "      <td>29-FEB-2008</td>\n",
       "      <td>2</td>\n",
       "      <td>331512</td>\n",
       "      <td>Steel Investment Foundries</td>\n",
       "      <td>15.0</td>\n",
       "      <td>5.0</td>\n",
       "      <td>15.0</td>\n",
       "      <td>20.0</td>\n",
       "      <td>20.0</td>\n",
       "      <td>15.0</td>\n",
       "      <td>15.0</td>\n",
       "      <td>1</td>\n",
       "    </tr>\n",
       "    <tr>\n",
       "      <th>4</th>\n",
       "      <td>08-FEB-2006</td>\n",
       "      <td>3</td>\n",
       "      <td>331512</td>\n",
       "      <td>Steel Investment Foundries</td>\n",
       "      <td>25.0</td>\n",
       "      <td>20.0</td>\n",
       "      <td>15.0</td>\n",
       "      <td>20.0</td>\n",
       "      <td>35.0</td>\n",
       "      <td>25.0</td>\n",
       "      <td>15.0</td>\n",
       "      <td>1</td>\n",
       "    </tr>\n",
       "  </tbody>\n",
       "</table>\n",
       "</div>"
      ],
      "text/plain": [
       "     test_date  nid   naics                 NAICS_descr  500k    1k    2k  \\\n",
       "0  08-FEB-2005    1  331512  Steel Investment Foundries  10.0   5.0   5.0   \n",
       "1  17-MAR-2009    1  331512  Steel Investment Foundries  15.0  10.0   5.0   \n",
       "2  08-FEB-2005    2  331512  Steel Investment Foundries   5.0  10.0  20.0   \n",
       "3  29-FEB-2008    2  331512  Steel Investment Foundries  15.0   5.0  15.0   \n",
       "4  08-FEB-2006    3  331512  Steel Investment Foundries  25.0  20.0  15.0   \n",
       "\n",
       "     3k    4k    6k    8k  left  \n",
       "0  15.0  10.0   5.0  25.0     1  \n",
       "1  15.0   5.0  10.0  25.0     1  \n",
       "2  20.0  15.0  20.0   0.0     1  \n",
       "3  20.0  20.0  15.0  15.0     1  \n",
       "4  20.0  35.0  25.0  15.0     1  "
      ]
     },
     "execution_count": 29,
     "metadata": {},
     "output_type": "execute_result"
    }
   ],
   "source": [
    "merge4.head()"
   ]
  },
  {
   "cell_type": "code",
   "execution_count": null,
   "id": "orange-catch",
   "metadata": {},
   "outputs": [],
   "source": [
    "merge4.to_csv('0405_concha_cleaned.csv', index=False)"
   ]
  },
  {
   "cell_type": "code",
   "execution_count": 2,
   "id": "black-greenhouse",
   "metadata": {},
   "outputs": [],
   "source": [
    "data = pd.read_csv('0405_concha_cleaned.csv')"
   ]
  },
  {
   "cell_type": "code",
   "execution_count": 3,
   "id": "handmade-assist",
   "metadata": {},
   "outputs": [
    {
     "data": {
      "text/plain": [
       "2715212"
      ]
     },
     "execution_count": 3,
     "metadata": {},
     "output_type": "execute_result"
    }
   ],
   "source": [
    "len(data)"
   ]
  },
  {
   "cell_type": "code",
   "execution_count": 4,
   "id": "standing-organization",
   "metadata": {},
   "outputs": [
    {
     "data": {
      "text/html": [
       "<div>\n",
       "<style scoped>\n",
       "    .dataframe tbody tr th:only-of-type {\n",
       "        vertical-align: middle;\n",
       "    }\n",
       "\n",
       "    .dataframe tbody tr th {\n",
       "        vertical-align: top;\n",
       "    }\n",
       "\n",
       "    .dataframe thead th {\n",
       "        text-align: right;\n",
       "    }\n",
       "</style>\n",
       "<table border=\"1\" class=\"dataframe\">\n",
       "  <thead>\n",
       "    <tr style=\"text-align: right;\">\n",
       "      <th></th>\n",
       "      <th>test_date</th>\n",
       "      <th>nid</th>\n",
       "      <th>naics</th>\n",
       "      <th>NAICS_descr</th>\n",
       "      <th>500k</th>\n",
       "      <th>1k</th>\n",
       "      <th>2k</th>\n",
       "      <th>3k</th>\n",
       "      <th>4k</th>\n",
       "      <th>6k</th>\n",
       "      <th>8k</th>\n",
       "      <th>left</th>\n",
       "    </tr>\n",
       "  </thead>\n",
       "  <tbody>\n",
       "    <tr>\n",
       "      <th>0</th>\n",
       "      <td>08-FEB-2005</td>\n",
       "      <td>1</td>\n",
       "      <td>331512</td>\n",
       "      <td>Steel Investment Foundries</td>\n",
       "      <td>10.0</td>\n",
       "      <td>5.0</td>\n",
       "      <td>5.0</td>\n",
       "      <td>15.0</td>\n",
       "      <td>10.0</td>\n",
       "      <td>5.0</td>\n",
       "      <td>25.0</td>\n",
       "      <td>1</td>\n",
       "    </tr>\n",
       "    <tr>\n",
       "      <th>1</th>\n",
       "      <td>17-MAR-2009</td>\n",
       "      <td>1</td>\n",
       "      <td>331512</td>\n",
       "      <td>Steel Investment Foundries</td>\n",
       "      <td>15.0</td>\n",
       "      <td>10.0</td>\n",
       "      <td>5.0</td>\n",
       "      <td>15.0</td>\n",
       "      <td>5.0</td>\n",
       "      <td>10.0</td>\n",
       "      <td>25.0</td>\n",
       "      <td>1</td>\n",
       "    </tr>\n",
       "    <tr>\n",
       "      <th>2</th>\n",
       "      <td>08-FEB-2005</td>\n",
       "      <td>2</td>\n",
       "      <td>331512</td>\n",
       "      <td>Steel Investment Foundries</td>\n",
       "      <td>5.0</td>\n",
       "      <td>10.0</td>\n",
       "      <td>20.0</td>\n",
       "      <td>20.0</td>\n",
       "      <td>15.0</td>\n",
       "      <td>20.0</td>\n",
       "      <td>0.0</td>\n",
       "      <td>1</td>\n",
       "    </tr>\n",
       "    <tr>\n",
       "      <th>3</th>\n",
       "      <td>29-FEB-2008</td>\n",
       "      <td>2</td>\n",
       "      <td>331512</td>\n",
       "      <td>Steel Investment Foundries</td>\n",
       "      <td>15.0</td>\n",
       "      <td>5.0</td>\n",
       "      <td>15.0</td>\n",
       "      <td>20.0</td>\n",
       "      <td>20.0</td>\n",
       "      <td>15.0</td>\n",
       "      <td>15.0</td>\n",
       "      <td>1</td>\n",
       "    </tr>\n",
       "    <tr>\n",
       "      <th>4</th>\n",
       "      <td>08-FEB-2006</td>\n",
       "      <td>3</td>\n",
       "      <td>331512</td>\n",
       "      <td>Steel Investment Foundries</td>\n",
       "      <td>25.0</td>\n",
       "      <td>20.0</td>\n",
       "      <td>15.0</td>\n",
       "      <td>20.0</td>\n",
       "      <td>35.0</td>\n",
       "      <td>25.0</td>\n",
       "      <td>15.0</td>\n",
       "      <td>1</td>\n",
       "    </tr>\n",
       "    <tr>\n",
       "      <th>5</th>\n",
       "      <td>08-FEB-2005</td>\n",
       "      <td>4</td>\n",
       "      <td>331512</td>\n",
       "      <td>Steel Investment Foundries</td>\n",
       "      <td>15.0</td>\n",
       "      <td>20.0</td>\n",
       "      <td>30.0</td>\n",
       "      <td>30.0</td>\n",
       "      <td>40.0</td>\n",
       "      <td>60.0</td>\n",
       "      <td>45.0</td>\n",
       "      <td>1</td>\n",
       "    </tr>\n",
       "    <tr>\n",
       "      <th>6</th>\n",
       "      <td>12-FEB-2007</td>\n",
       "      <td>4</td>\n",
       "      <td>331512</td>\n",
       "      <td>Steel Investment Foundries</td>\n",
       "      <td>10.0</td>\n",
       "      <td>15.0</td>\n",
       "      <td>35.0</td>\n",
       "      <td>25.0</td>\n",
       "      <td>25.0</td>\n",
       "      <td>70.0</td>\n",
       "      <td>50.0</td>\n",
       "      <td>1</td>\n",
       "    </tr>\n",
       "    <tr>\n",
       "      <th>7</th>\n",
       "      <td>17-MAR-2010</td>\n",
       "      <td>5</td>\n",
       "      <td>331512</td>\n",
       "      <td>Steel Investment Foundries</td>\n",
       "      <td>25.0</td>\n",
       "      <td>25.0</td>\n",
       "      <td>35.0</td>\n",
       "      <td>60.0</td>\n",
       "      <td>80.0</td>\n",
       "      <td>90.0</td>\n",
       "      <td>85.0</td>\n",
       "      <td>1</td>\n",
       "    </tr>\n",
       "    <tr>\n",
       "      <th>8</th>\n",
       "      <td>08-FEB-2005</td>\n",
       "      <td>6</td>\n",
       "      <td>331512</td>\n",
       "      <td>Steel Investment Foundries</td>\n",
       "      <td>10.0</td>\n",
       "      <td>10.0</td>\n",
       "      <td>10.0</td>\n",
       "      <td>40.0</td>\n",
       "      <td>45.0</td>\n",
       "      <td>35.0</td>\n",
       "      <td>0.0</td>\n",
       "      <td>1</td>\n",
       "    </tr>\n",
       "    <tr>\n",
       "      <th>9</th>\n",
       "      <td>17-MAR-2010</td>\n",
       "      <td>6</td>\n",
       "      <td>331512</td>\n",
       "      <td>Steel Investment Foundries</td>\n",
       "      <td>10.0</td>\n",
       "      <td>5.0</td>\n",
       "      <td>10.0</td>\n",
       "      <td>45.0</td>\n",
       "      <td>45.0</td>\n",
       "      <td>35.0</td>\n",
       "      <td>20.0</td>\n",
       "      <td>1</td>\n",
       "    </tr>\n",
       "    <tr>\n",
       "      <th>10</th>\n",
       "      <td>08-FEB-2005</td>\n",
       "      <td>8</td>\n",
       "      <td>331512</td>\n",
       "      <td>Steel Investment Foundries</td>\n",
       "      <td>15.0</td>\n",
       "      <td>10.0</td>\n",
       "      <td>10.0</td>\n",
       "      <td>10.0</td>\n",
       "      <td>35.0</td>\n",
       "      <td>35.0</td>\n",
       "      <td>5.0</td>\n",
       "      <td>1</td>\n",
       "    </tr>\n",
       "    <tr>\n",
       "      <th>11</th>\n",
       "      <td>17-MAR-2010</td>\n",
       "      <td>8</td>\n",
       "      <td>331512</td>\n",
       "      <td>Steel Investment Foundries</td>\n",
       "      <td>20.0</td>\n",
       "      <td>15.0</td>\n",
       "      <td>15.0</td>\n",
       "      <td>30.0</td>\n",
       "      <td>60.0</td>\n",
       "      <td>55.0</td>\n",
       "      <td>35.0</td>\n",
       "      <td>1</td>\n",
       "    </tr>\n",
       "    <tr>\n",
       "      <th>12</th>\n",
       "      <td>08-FEB-2005</td>\n",
       "      <td>9</td>\n",
       "      <td>331512</td>\n",
       "      <td>Steel Investment Foundries</td>\n",
       "      <td>5.0</td>\n",
       "      <td>5.0</td>\n",
       "      <td>5.0</td>\n",
       "      <td>5.0</td>\n",
       "      <td>15.0</td>\n",
       "      <td>15.0</td>\n",
       "      <td>10.0</td>\n",
       "      <td>1</td>\n",
       "    </tr>\n",
       "    <tr>\n",
       "      <th>13</th>\n",
       "      <td>29-FEB-2008</td>\n",
       "      <td>9</td>\n",
       "      <td>331512</td>\n",
       "      <td>Steel Investment Foundries</td>\n",
       "      <td>10.0</td>\n",
       "      <td>5.0</td>\n",
       "      <td>0.0</td>\n",
       "      <td>5.0</td>\n",
       "      <td>15.0</td>\n",
       "      <td>15.0</td>\n",
       "      <td>15.0</td>\n",
       "      <td>1</td>\n",
       "    </tr>\n",
       "    <tr>\n",
       "      <th>14</th>\n",
       "      <td>08-FEB-2005</td>\n",
       "      <td>10</td>\n",
       "      <td>331512</td>\n",
       "      <td>Steel Investment Foundries</td>\n",
       "      <td>10.0</td>\n",
       "      <td>5.0</td>\n",
       "      <td>0.0</td>\n",
       "      <td>5.0</td>\n",
       "      <td>10.0</td>\n",
       "      <td>5.0</td>\n",
       "      <td>0.0</td>\n",
       "      <td>1</td>\n",
       "    </tr>\n",
       "    <tr>\n",
       "      <th>15</th>\n",
       "      <td>17-MAR-2010</td>\n",
       "      <td>10</td>\n",
       "      <td>331512</td>\n",
       "      <td>Steel Investment Foundries</td>\n",
       "      <td>0.0</td>\n",
       "      <td>0.0</td>\n",
       "      <td>0.0</td>\n",
       "      <td>10.0</td>\n",
       "      <td>10.0</td>\n",
       "      <td>0.0</td>\n",
       "      <td>0.0</td>\n",
       "      <td>1</td>\n",
       "    </tr>\n",
       "    <tr>\n",
       "      <th>16</th>\n",
       "      <td>29-FEB-2008</td>\n",
       "      <td>11</td>\n",
       "      <td>331512</td>\n",
       "      <td>Steel Investment Foundries</td>\n",
       "      <td>30.0</td>\n",
       "      <td>20.0</td>\n",
       "      <td>25.0</td>\n",
       "      <td>60.0</td>\n",
       "      <td>60.0</td>\n",
       "      <td>60.0</td>\n",
       "      <td>30.0</td>\n",
       "      <td>1</td>\n",
       "    </tr>\n",
       "    <tr>\n",
       "      <th>17</th>\n",
       "      <td>08-FEB-2005</td>\n",
       "      <td>12</td>\n",
       "      <td>331512</td>\n",
       "      <td>Steel Investment Foundries</td>\n",
       "      <td>15.0</td>\n",
       "      <td>10.0</td>\n",
       "      <td>5.0</td>\n",
       "      <td>5.0</td>\n",
       "      <td>25.0</td>\n",
       "      <td>25.0</td>\n",
       "      <td>10.0</td>\n",
       "      <td>1</td>\n",
       "    </tr>\n",
       "    <tr>\n",
       "      <th>18</th>\n",
       "      <td>17-MAR-2010</td>\n",
       "      <td>12</td>\n",
       "      <td>331512</td>\n",
       "      <td>Steel Investment Foundries</td>\n",
       "      <td>10.0</td>\n",
       "      <td>10.0</td>\n",
       "      <td>5.0</td>\n",
       "      <td>5.0</td>\n",
       "      <td>40.0</td>\n",
       "      <td>20.0</td>\n",
       "      <td>10.0</td>\n",
       "      <td>1</td>\n",
       "    </tr>\n",
       "    <tr>\n",
       "      <th>19</th>\n",
       "      <td>08-FEB-2005</td>\n",
       "      <td>13</td>\n",
       "      <td>331512</td>\n",
       "      <td>Steel Investment Foundries</td>\n",
       "      <td>10.0</td>\n",
       "      <td>5.0</td>\n",
       "      <td>10.0</td>\n",
       "      <td>45.0</td>\n",
       "      <td>50.0</td>\n",
       "      <td>35.0</td>\n",
       "      <td>30.0</td>\n",
       "      <td>1</td>\n",
       "    </tr>\n",
       "  </tbody>\n",
       "</table>\n",
       "</div>"
      ],
      "text/plain": [
       "      test_date  nid   naics                 NAICS_descr  500k    1k    2k  \\\n",
       "0   08-FEB-2005    1  331512  Steel Investment Foundries  10.0   5.0   5.0   \n",
       "1   17-MAR-2009    1  331512  Steel Investment Foundries  15.0  10.0   5.0   \n",
       "2   08-FEB-2005    2  331512  Steel Investment Foundries   5.0  10.0  20.0   \n",
       "3   29-FEB-2008    2  331512  Steel Investment Foundries  15.0   5.0  15.0   \n",
       "4   08-FEB-2006    3  331512  Steel Investment Foundries  25.0  20.0  15.0   \n",
       "5   08-FEB-2005    4  331512  Steel Investment Foundries  15.0  20.0  30.0   \n",
       "6   12-FEB-2007    4  331512  Steel Investment Foundries  10.0  15.0  35.0   \n",
       "7   17-MAR-2010    5  331512  Steel Investment Foundries  25.0  25.0  35.0   \n",
       "8   08-FEB-2005    6  331512  Steel Investment Foundries  10.0  10.0  10.0   \n",
       "9   17-MAR-2010    6  331512  Steel Investment Foundries  10.0   5.0  10.0   \n",
       "10  08-FEB-2005    8  331512  Steel Investment Foundries  15.0  10.0  10.0   \n",
       "11  17-MAR-2010    8  331512  Steel Investment Foundries  20.0  15.0  15.0   \n",
       "12  08-FEB-2005    9  331512  Steel Investment Foundries   5.0   5.0   5.0   \n",
       "13  29-FEB-2008    9  331512  Steel Investment Foundries  10.0   5.0   0.0   \n",
       "14  08-FEB-2005   10  331512  Steel Investment Foundries  10.0   5.0   0.0   \n",
       "15  17-MAR-2010   10  331512  Steel Investment Foundries   0.0   0.0   0.0   \n",
       "16  29-FEB-2008   11  331512  Steel Investment Foundries  30.0  20.0  25.0   \n",
       "17  08-FEB-2005   12  331512  Steel Investment Foundries  15.0  10.0   5.0   \n",
       "18  17-MAR-2010   12  331512  Steel Investment Foundries  10.0  10.0   5.0   \n",
       "19  08-FEB-2005   13  331512  Steel Investment Foundries  10.0   5.0  10.0   \n",
       "\n",
       "      3k    4k    6k    8k  left  \n",
       "0   15.0  10.0   5.0  25.0     1  \n",
       "1   15.0   5.0  10.0  25.0     1  \n",
       "2   20.0  15.0  20.0   0.0     1  \n",
       "3   20.0  20.0  15.0  15.0     1  \n",
       "4   20.0  35.0  25.0  15.0     1  \n",
       "5   30.0  40.0  60.0  45.0     1  \n",
       "6   25.0  25.0  70.0  50.0     1  \n",
       "7   60.0  80.0  90.0  85.0     1  \n",
       "8   40.0  45.0  35.0   0.0     1  \n",
       "9   45.0  45.0  35.0  20.0     1  \n",
       "10  10.0  35.0  35.0   5.0     1  \n",
       "11  30.0  60.0  55.0  35.0     1  \n",
       "12   5.0  15.0  15.0  10.0     1  \n",
       "13   5.0  15.0  15.0  15.0     1  \n",
       "14   5.0  10.0   5.0   0.0     1  \n",
       "15  10.0  10.0   0.0   0.0     1  \n",
       "16  60.0  60.0  60.0  30.0     1  \n",
       "17   5.0  25.0  25.0  10.0     1  \n",
       "18   5.0  40.0  20.0  10.0     1  \n",
       "19  45.0  50.0  35.0  30.0     1  "
      ]
     },
     "execution_count": 4,
     "metadata": {},
     "output_type": "execute_result"
    }
   ],
   "source": [
    "data.head(20)"
   ]
  },
  {
   "cell_type": "code",
   "execution_count": 5,
   "id": "piano-encounter",
   "metadata": {},
   "outputs": [],
   "source": [
    "data.set_index(['test_date', 'nid', 'naics', 'NAICS_descr', 'left'], inplace=True)"
   ]
  },
  {
   "cell_type": "code",
   "execution_count": 6,
   "id": "romance-transaction",
   "metadata": {},
   "outputs": [],
   "source": [
    "from sklearn import preprocessing\n",
    "\n",
    "# standardize the data attributes\n",
    "data = pd.DataFrame(preprocessing.scale(data), columns = data.columns, index = data.index)"
   ]
  },
  {
   "cell_type": "code",
   "execution_count": 24,
   "id": "constitutional-heath",
   "metadata": {},
   "outputs": [
    {
     "data": {
      "text/html": [
       "<div>\n",
       "<style scoped>\n",
       "    .dataframe tbody tr th:only-of-type {\n",
       "        vertical-align: middle;\n",
       "    }\n",
       "\n",
       "    .dataframe tbody tr th {\n",
       "        vertical-align: top;\n",
       "    }\n",
       "\n",
       "    .dataframe thead th {\n",
       "        text-align: right;\n",
       "    }\n",
       "</style>\n",
       "<table border=\"1\" class=\"dataframe\">\n",
       "  <thead>\n",
       "    <tr style=\"text-align: right;\">\n",
       "      <th></th>\n",
       "      <th></th>\n",
       "      <th></th>\n",
       "      <th></th>\n",
       "      <th></th>\n",
       "      <th>500k</th>\n",
       "      <th>1k</th>\n",
       "      <th>2k</th>\n",
       "      <th>3k</th>\n",
       "      <th>4k</th>\n",
       "      <th>6k</th>\n",
       "      <th>8k</th>\n",
       "    </tr>\n",
       "    <tr>\n",
       "      <th>test_date</th>\n",
       "      <th>nid</th>\n",
       "      <th>naics</th>\n",
       "      <th>NAICS_descr</th>\n",
       "      <th>left</th>\n",
       "      <th></th>\n",
       "      <th></th>\n",
       "      <th></th>\n",
       "      <th></th>\n",
       "      <th></th>\n",
       "      <th></th>\n",
       "      <th></th>\n",
       "    </tr>\n",
       "  </thead>\n",
       "  <tbody>\n",
       "    <tr>\n",
       "      <th>08-FEB-2005</th>\n",
       "      <th>1</th>\n",
       "      <th>331512</th>\n",
       "      <th>Steel Investment Foundries</th>\n",
       "      <th>1</th>\n",
       "      <td>0.033757</td>\n",
       "      <td>-0.459793</td>\n",
       "      <td>-0.512192</td>\n",
       "      <td>-0.044149</td>\n",
       "      <td>-0.555886</td>\n",
       "      <td>-0.974748</td>\n",
       "      <td>0.082993</td>\n",
       "    </tr>\n",
       "    <tr>\n",
       "      <th>17-MAR-2009</th>\n",
       "      <th>1</th>\n",
       "      <th>331512</th>\n",
       "      <th>Steel Investment Foundries</th>\n",
       "      <th>1</th>\n",
       "      <td>0.730560</td>\n",
       "      <td>0.173518</td>\n",
       "      <td>-0.512192</td>\n",
       "      <td>-0.044149</td>\n",
       "      <td>-0.826180</td>\n",
       "      <td>-0.702688</td>\n",
       "      <td>0.082993</td>\n",
       "    </tr>\n",
       "    <tr>\n",
       "      <th>08-FEB-2005</th>\n",
       "      <th>2</th>\n",
       "      <th>331512</th>\n",
       "      <th>Steel Investment Foundries</th>\n",
       "      <th>1</th>\n",
       "      <td>-0.663046</td>\n",
       "      <td>0.173518</td>\n",
       "      <td>0.814070</td>\n",
       "      <td>0.265428</td>\n",
       "      <td>-0.285592</td>\n",
       "      <td>-0.158566</td>\n",
       "      <td>-0.958729</td>\n",
       "    </tr>\n",
       "    <tr>\n",
       "      <th>29-FEB-2008</th>\n",
       "      <th>2</th>\n",
       "      <th>331512</th>\n",
       "      <th>Steel Investment Foundries</th>\n",
       "      <th>1</th>\n",
       "      <td>0.730560</td>\n",
       "      <td>-0.459793</td>\n",
       "      <td>0.371983</td>\n",
       "      <td>0.265428</td>\n",
       "      <td>-0.015298</td>\n",
       "      <td>-0.430627</td>\n",
       "      <td>-0.333696</td>\n",
       "    </tr>\n",
       "    <tr>\n",
       "      <th>08-FEB-2006</th>\n",
       "      <th>3</th>\n",
       "      <th>331512</th>\n",
       "      <th>Steel Investment Foundries</th>\n",
       "      <th>1</th>\n",
       "      <td>2.124167</td>\n",
       "      <td>1.440138</td>\n",
       "      <td>0.371983</td>\n",
       "      <td>0.265428</td>\n",
       "      <td>0.795584</td>\n",
       "      <td>0.113495</td>\n",
       "      <td>-0.333696</td>\n",
       "    </tr>\n",
       "  </tbody>\n",
       "</table>\n",
       "</div>"
      ],
      "text/plain": [
       "                                                            500k        1k  \\\n",
       "test_date   nid naics  NAICS_descr                left                       \n",
       "08-FEB-2005 1   331512 Steel Investment Foundries 1     0.033757 -0.459793   \n",
       "17-MAR-2009 1   331512 Steel Investment Foundries 1     0.730560  0.173518   \n",
       "08-FEB-2005 2   331512 Steel Investment Foundries 1    -0.663046  0.173518   \n",
       "29-FEB-2008 2   331512 Steel Investment Foundries 1     0.730560 -0.459793   \n",
       "08-FEB-2006 3   331512 Steel Investment Foundries 1     2.124167  1.440138   \n",
       "\n",
       "                                                              2k        3k  \\\n",
       "test_date   nid naics  NAICS_descr                left                       \n",
       "08-FEB-2005 1   331512 Steel Investment Foundries 1    -0.512192 -0.044149   \n",
       "17-MAR-2009 1   331512 Steel Investment Foundries 1    -0.512192 -0.044149   \n",
       "08-FEB-2005 2   331512 Steel Investment Foundries 1     0.814070  0.265428   \n",
       "29-FEB-2008 2   331512 Steel Investment Foundries 1     0.371983  0.265428   \n",
       "08-FEB-2006 3   331512 Steel Investment Foundries 1     0.371983  0.265428   \n",
       "\n",
       "                                                              4k        6k  \\\n",
       "test_date   nid naics  NAICS_descr                left                       \n",
       "08-FEB-2005 1   331512 Steel Investment Foundries 1    -0.555886 -0.974748   \n",
       "17-MAR-2009 1   331512 Steel Investment Foundries 1    -0.826180 -0.702688   \n",
       "08-FEB-2005 2   331512 Steel Investment Foundries 1    -0.285592 -0.158566   \n",
       "29-FEB-2008 2   331512 Steel Investment Foundries 1    -0.015298 -0.430627   \n",
       "08-FEB-2006 3   331512 Steel Investment Foundries 1     0.795584  0.113495   \n",
       "\n",
       "                                                              8k  \n",
       "test_date   nid naics  NAICS_descr                left            \n",
       "08-FEB-2005 1   331512 Steel Investment Foundries 1     0.082993  \n",
       "17-MAR-2009 1   331512 Steel Investment Foundries 1     0.082993  \n",
       "08-FEB-2005 2   331512 Steel Investment Foundries 1    -0.958729  \n",
       "29-FEB-2008 2   331512 Steel Investment Foundries 1    -0.333696  \n",
       "08-FEB-2006 3   331512 Steel Investment Foundries 1    -0.333696  "
      ]
     },
     "execution_count": 24,
     "metadata": {},
     "output_type": "execute_result"
    }
   ],
   "source": [
    "data.head()"
   ]
  },
  {
   "cell_type": "code",
   "execution_count": 25,
   "id": "bigger-tennis",
   "metadata": {},
   "outputs": [],
   "source": [
    "from sklearn.model_selection import train_test_split\n",
    "\n",
    "# Separate features and targets\n",
    "X = data[['2k', '4k', '6k']].to_numpy()\n",
    "y = data[['500k', '1k', '3k', '8k']].to_numpy()\n",
    "\n",
    "# split into train and test datasets\n",
    "X_train, X_test, y_train, y_test = train_test_split(X, y, test_size=0.33)\n"
   ]
  },
  {
   "cell_type": "markdown",
   "id": "small-arizona",
   "metadata": {},
   "source": [
    "# neural network using Keras"
   ]
  },
  {
   "cell_type": "code",
   "execution_count": 26,
   "id": "martial-martial",
   "metadata": {},
   "outputs": [],
   "source": [
    "# Load dependencies\n",
    "from tensorflow.keras.models import Sequential\n",
    "from tensorflow.keras.layers import *\n",
    "import numpy as np"
   ]
  },
  {
   "cell_type": "code",
   "execution_count": 27,
   "id": "single-broadcast",
   "metadata": {},
   "outputs": [
    {
     "name": "stdout",
     "output_type": "stream",
     "text": [
      "Feature shape: (3,)\n",
      "Epoch 1/10\n",
      "1819192/1819192 [==============================] - 281s 154us/sample - loss: 0.4894 - mean_squared_error: 0.5324\n",
      "Epoch 2/10\n",
      "1819192/1819192 [==============================] - 267s 147us/sample - loss: 0.4849 - mean_squared_error: 0.5307\n",
      "Epoch 3/10\n",
      "1819192/1819192 [==============================] - 535s 294us/sample - loss: 0.4839 - mean_squared_error: 0.5314\n",
      "Epoch 4/10\n",
      "1819192/1819192 [==============================] - 332s 183us/sample - loss: 0.4835 - mean_squared_error: 0.5304\n",
      "Epoch 5/10\n",
      "1819192/1819192 [==============================] - 308s 169us/sample - loss: 0.4829 - mean_squared_error: 0.5284\n",
      "Epoch 6/10\n",
      "1819192/1819192 [==============================] - 306s 168us/sample - loss: 0.4827 - mean_squared_error: 0.5281\n",
      "Epoch 7/10\n",
      "1819192/1819192 [==============================] - 316s 174us/sample - loss: 0.4827 - mean_squared_error: 0.5279\n",
      "Epoch 8/10\n",
      "1819192/1819192 [==============================] - 300s 165us/sample - loss: 0.4826 - mean_squared_error: 0.5281\n",
      "Epoch 9/10\n",
      "1819192/1819192 [==============================] - 278s 153us/sample - loss: 0.4827 - mean_squared_error: 0.5282\n",
      "Epoch 10/10\n",
      "1819192/1819192 [==============================] - 246s 135us/sample - loss: 0.4826 - mean_squared_error: 0.5282\n"
     ]
    }
   ],
   "source": [
    "# Set the input shape\n",
    "input_shape = (3,)\n",
    "print(f'Feature shape: {input_shape}')\n",
    "\n",
    "# Create the model\n",
    "model = Sequential()\n",
    "model.add(Dense(16, input_shape=input_shape, activation='relu'))\n",
    "model.add(Dense(8, activation='relu'))\n",
    "model.add(Dense(4, activation='linear'))\n",
    "\n",
    "# Configure the model and start training\n",
    "model.compile(loss='mean_absolute_error', optimizer='adam', metrics=['mean_squared_error'])\n",
    "\n",
    "# fit the model\n",
    "# 10 each to save time. 100 epochs is recommended  \n",
    "history = model.fit(X_train, y_train, epochs=10, batch_size=10, verbose=1)"
   ]
  },
  {
   "cell_type": "code",
   "execution_count": 44,
   "id": "subsequent-traveler",
   "metadata": {},
   "outputs": [
    {
     "name": "stdout",
     "output_type": "stream",
     "text": [
      "896020/896020 [==============================] - 19s 21us/sample - loss: 0.4824 - mean_squared_error: 0.5275\n"
     ]
    }
   ],
   "source": [
    "# evaluate the model\n",
    "error = model.evaluate(X_test, y_test, verbose=1)"
   ]
  },
  {
   "cell_type": "code",
   "execution_count": 45,
   "id": "regulated-joshua",
   "metadata": {},
   "outputs": [
    {
     "name": "stdout",
     "output_type": "stream",
     "text": [
      "[0.4823617661553556, 0.52753955]\n"
     ]
    }
   ],
   "source": [
    "print(error)"
   ]
  },
  {
   "cell_type": "code",
   "execution_count": 46,
   "id": "superior-platinum",
   "metadata": {},
   "outputs": [
    {
     "name": "stdout",
     "output_type": "stream",
     "text": [
      "{'loss': [0.4894159382913378, 0.48491687005231987, 0.4838604515837622, 0.48350989237371095, 0.4829225744522054, 0.48271109147457597, 0.48267913626179354, 0.48263335074100006, 0.4826591178288185, 0.4826298331792737], 'mean_squared_error': [0.53235507, 0.5307133, 0.53143156, 0.53042644, 0.52839553, 0.52807796, 0.5279122, 0.52811134, 0.52823657, 0.5281957]}\n"
     ]
    }
   ],
   "source": [
    "print(history.history)"
   ]
  },
  {
   "cell_type": "code",
   "execution_count": 47,
   "id": "framed-apparatus",
   "metadata": {},
   "outputs": [
    {
     "name": "stdout",
     "output_type": "stream",
     "text": [
      "dict_keys(['loss', 'mean_squared_error'])\n"
     ]
    },
    {
     "data": {
      "image/png": "[encoded data removed]",
      "text/plain": [
       "<Figure size 432x288 with 1 Axes>"
      ]
     },
     "metadata": {
      "needs_background": "light"
     },
     "output_type": "display_data"
    }
   ],
   "source": [
    "print(history.history.keys())\n",
    "\n",
    "# \"Loss\"\n",
    "plt.plot(history.history['loss'])\n",
    "plt.title('model loss')\n",
    "plt.ylabel('loss')\n",
    "plt.xlabel('epoch')\n",
    "plt.legend(['train'], loc='upper left')\n",
    "plt.show()"
   ]
  },
  {
   "cell_type": "code",
   "execution_count": 48,
   "id": "dimensional-plasma",
   "metadata": {},
   "outputs": [
    {
     "name": "stdout",
     "output_type": "stream",
     "text": [
      "dict_keys(['loss', 'mean_squared_error'])\n"
     ]
    },
    {
     "data": {
      "image/png": "[encoded data removed]",
      "text/plain": [
       "<Figure size 432x288 with 1 Axes>"
      ]
     },
     "metadata": {
      "needs_background": "light"
     },
     "output_type": "display_data"
    }
   ],
   "source": [
    "print(history.history.keys())\n",
    "\n",
    "# \"Loss\"\n",
    "plt.plot(np.sqrt(history.history['mean_squared_error']))\n",
    "plt.title('rmse')\n",
    "plt.ylabel('loss')\n",
    "plt.xlabel('epoch')\n",
    "plt.legend(['validation'], loc='upper left')\n",
    "plt.show()\n",
    "\n",
    "# instability due to epochs only being 10. both training and validation losses decrease exponentially as epochs increase.\n"
   ]
  },
  {
   "cell_type": "code",
   "execution_count": 28,
   "id": "suburban-convenience",
   "metadata": {},
   "outputs": [],
   "source": [
    "nn = model"
   ]
  },
  {
   "cell_type": "code",
   "execution_count": 17,
   "id": "fluid-administrator",
   "metadata": {},
   "outputs": [],
   "source": [
    "# randomized search to tune hyperparameters"
   ]
  },
  {
   "cell_type": "code",
   "execution_count": 18,
   "id": "combined-africa",
   "metadata": {},
   "outputs": [],
   "source": [
    "from sklearn.model_selection import * "
   ]
  },
  {
   "cell_type": "code",
   "execution_count": 32,
   "id": "tribal-denver",
   "metadata": {},
   "outputs": [],
   "source": [
    "from keras.wrappers.scikit_learn import KerasRegressor\n",
    "\n",
    "def create_model():\n",
    "# create model\n",
    "    model = Sequential()\n",
    "    model.add(Dense(16, input_shape=input_shape, activation='relu'))\n",
    "    model.add(Dense(8, activation='relu'))\n",
    "    model.add(Dense(4, activation='linear'))\n",
    "# Compile model\n",
    "    model.compile(loss='mean_absolute_error', optimizer='adam', metrics=['mean_squared_error'])\n",
    "    return model\n"
   ]
  },
  {
   "cell_type": "code",
   "execution_count": 33,
   "id": "based-embassy",
   "metadata": {},
   "outputs": [],
   "source": [
    "# fix random seed for reproducibility\n",
    "seed = 7\n",
    "np.random.seed(seed)"
   ]
  },
  {
   "cell_type": "code",
   "execution_count": 35,
   "id": "sized-following",
   "metadata": {},
   "outputs": [],
   "source": [
    "# create model\n",
    "nn_keras = KerasRegressor(build_fn=create_model, verbose=0)"
   ]
  },
  {
   "cell_type": "code",
   "execution_count": null,
   "id": "renewable-sussex",
   "metadata": {},
   "outputs": [],
   "source": [
    "# define the grid search parameters\n",
    "batch_size = [10, 20, 40, 60, 80, 100]\n",
    "epochs = [10, 50, 100]\n",
    "param_grid = dict(batch_size=batch_size, epochs=epochs)\n",
    "rd = RandomizedSearchCV(nn_keras, param_distributions=param_grid, n_jobs=1, cv=5, scoring='neg_mean_absolute_error', verbose=1)\n",
    "rd_result = rd.fit(X_train, y_train)\n",
    "\n"
   ]
  },
  {
   "cell_type": "code",
   "execution_count": null,
   "id": "associate-count",
   "metadata": {},
   "outputs": [],
   "source": [
    "# summarize results\n",
    "print(\"Best: %f using %s\" % (rd_result.best_score_, rd_result.best_params_))\n",
    "means = rd_result.cv_results_['mean_test_score']\n",
    "stds = rd_result.cv_results_['std_test_score']\n",
    "params = rd_result.cv_results_['params']\n",
    "for mean, stdev, param in zip(means, stds, params):\n",
    "    print(\"%f (%f) with: %r\" % (mean, stdev, param))"
   ]
  },
  {
   "cell_type": "markdown",
   "id": "homeless-matrix",
   "metadata": {},
   "source": [
    "# simpler models (linear regression & decision tree)"
   ]
  },
  {
   "cell_type": "code",
   "execution_count": 116,
   "id": "academic-fight",
   "metadata": {},
   "outputs": [],
   "source": [
    "from sklearn.datasets import make_regression\n",
    "from sklearn.linear_model import LinearRegression\n",
    "from sklearn.metrics import *\n",
    "from sklearn.model_selection import *\n",
    "from sklearn import linear_model\n"
   ]
  },
  {
   "cell_type": "code",
   "execution_count": 117,
   "id": "sophisticated-syndication",
   "metadata": {},
   "outputs": [
    {
     "data": {
      "text/plain": [
       "LinearRegression()"
      ]
     },
     "execution_count": 117,
     "metadata": {},
     "output_type": "execute_result"
    }
   ],
   "source": [
    "# linear regression for multioutput regression\n",
    "lin = linear_model.LinearRegression()\n",
    "lin.fit(X_train, y_train)"
   ]
  },
  {
   "cell_type": "code",
   "execution_count": 118,
   "id": "governing-actress",
   "metadata": {},
   "outputs": [
    {
     "data": {
      "text/plain": [
       "0.4760638532086828"
      ]
     },
     "execution_count": 118,
     "metadata": {},
     "output_type": "execute_result"
    }
   ],
   "source": [
    "lin.score(X_test,y_test)"
   ]
  },
  {
   "cell_type": "code",
   "execution_count": 119,
   "id": "fundamental-browser",
   "metadata": {},
   "outputs": [],
   "source": [
    "mse = mean_squared_error(y_train, lin.predict(X_train))\n",
    "rmse = np.sqrt(mse)\n",
    "mae = mean_absolute_error(y_train, lin.predict(X_train))"
   ]
  },
  {
   "cell_type": "code",
   "execution_count": 120,
   "id": "western-pattern",
   "metadata": {},
   "outputs": [
    {
     "name": "stdout",
     "output_type": "stream",
     "text": [
      "0.5083769933832\n"
     ]
    }
   ],
   "source": [
    "print(mae)"
   ]
  },
  {
   "cell_type": "code",
   "execution_count": 121,
   "id": "opening-cotton",
   "metadata": {},
   "outputs": [
    {
     "name": "stdout",
     "output_type": "stream",
     "text": [
      "0.5239207323187953\n"
     ]
    }
   ],
   "source": [
    "print(mse)"
   ]
  },
  {
   "cell_type": "code",
   "execution_count": 122,
   "id": "lasting-highland",
   "metadata": {},
   "outputs": [
    {
     "name": "stdout",
     "output_type": "stream",
     "text": [
      "0.7238236886969059\n"
     ]
    }
   ],
   "source": [
    "print(rmse)"
   ]
  },
  {
   "cell_type": "code",
   "execution_count": 8,
   "id": "ignored-humor",
   "metadata": {},
   "outputs": [
    {
     "data": {
      "text/plain": [
       "DecisionTreeRegressor()"
      ]
     },
     "execution_count": 8,
     "metadata": {},
     "output_type": "execute_result"
    }
   ],
   "source": [
    "# decision tree for multioutput regression\n",
    "from sklearn.datasets import make_regression\n",
    "from sklearn.tree import DecisionTreeRegressor\n",
    "\n",
    "# define model\n",
    "dt = DecisionTreeRegressor()\n",
    "# fit model\n",
    "dt.fit(X_train, y_train)"
   ]
  },
  {
   "cell_type": "code",
   "execution_count": 126,
   "id": "continuing-testament",
   "metadata": {},
   "outputs": [],
   "source": [
    "from sklearn.model_selection import cross_val_score\n",
    "from sklearn.model_selection import RepeatedKFold\n",
    "\n",
    "# define the evaluation procedure\n",
    "cv = RepeatedKFold(n_splits=10, n_repeats=3, random_state=1)\n",
    "# evaluate the model and collect the scores\n",
    "n_scores_ab = cross_val_score(dt, X_train, y_train, scoring='neg_mean_absolute_error', cv=cv, n_jobs=-1)\n",
    "n_scores_sq = cross_val_score(dt, X_train, y_train, scoring='neg_mean_squared_error', cv=cv, n_jobs=-1)\n"
   ]
  },
  {
   "cell_type": "code",
   "execution_count": 127,
   "id": "meaningful-tuition",
   "metadata": {},
   "outputs": [],
   "source": [
    "from statistics import *"
   ]
  },
  {
   "cell_type": "code",
   "execution_count": 128,
   "id": "written-provision",
   "metadata": {},
   "outputs": [
    {
     "name": "stdout",
     "output_type": "stream",
     "text": [
      "MAE: 0.499 (0.001)\n",
      "MSE: 0.509 (0.002)\n"
     ]
    }
   ],
   "source": [
    "# force the scores to be positive\n",
    "n_scores_ab = abs(n_scores_ab)\n",
    "n_scores_sq = abs(n_scores_sq)\n",
    "\n",
    "# summarize performance\n",
    "print('MAE: %.3f (%.3f)' % (mean(n_scores_ab), np.std(n_scores_ab)))\n",
    "print('MSE: %.3f (%.3f)' % (mean(n_scores_sq), np.std(n_scores_sq)))"
   ]
  },
  {
   "cell_type": "code",
   "execution_count": 129,
   "id": "corporate-absorption",
   "metadata": {},
   "outputs": [
    {
     "name": "stdout",
     "output_type": "stream",
     "text": [
      "Fitting 5 folds for each of 20 candidates, totalling 100 fits\n"
     ]
    },
    {
     "data": {
      "text/plain": [
       "RandomizedSearchCV(cv=5, estimator=DecisionTreeRegressor(), n_iter=20, n_jobs=1,\n",
       "                   param_distributions={'max_depth': <scipy.stats._distn_infrastructure.rv_frozen object at 0x7fae1e66ad50>,\n",
       "                                        'min_samples_split': <scipy.stats._distn_infrastructure.rv_frozen object at 0x7fae1e66a750>},\n",
       "                   scoring='neg_mean_absolute_error', verbose=1)"
      ]
     },
     "execution_count": 129,
     "metadata": {},
     "output_type": "execute_result"
    }
   ],
   "source": [
    "# randomized search to tune hyperparameters. less expensive than grid search\n",
    "\n",
    "from scipy.stats import randint as sp_randint\n",
    "\n",
    "param_dist = {'max_depth': sp_randint(2,16),\n",
    "              'min_samples_split': sp_randint(2,16)}\n",
    "\n",
    "n_iter_search = 20\n",
    "clfrs_mae = RandomizedSearchCV(dt, \n",
    "                                   param_distributions=param_dist,\n",
    "                                   scoring='neg_mean_absolute_error',\n",
    "                                   cv=5 , n_jobs=1, verbose=1,\n",
    "                                   n_iter=n_iter_search)\n",
    "clfrs_mae.fit(X_train,y_train)"
   ]
  },
  {
   "cell_type": "code",
   "execution_count": 130,
   "id": "serial-launch",
   "metadata": {},
   "outputs": [
    {
     "name": "stdout",
     "output_type": "stream",
     "text": [
      "{'max_depth': 13, 'min_samples_split': 5}\n",
      "-0.49921793951445326\n"
     ]
    }
   ],
   "source": [
    "clfrs_mae.cv_results_\n",
    "    \n",
    "print(clfrs_mae.best_params_)\n",
    "print(clfrs_mae.best_score_)\n"
   ]
  },
  {
   "cell_type": "code",
   "execution_count": 131,
   "id": "efficient-relation",
   "metadata": {},
   "outputs": [
    {
     "name": "stdout",
     "output_type": "stream",
     "text": [
      "Fitting 5 folds for each of 20 candidates, totalling 100 fits\n"
     ]
    },
    {
     "data": {
      "text/plain": [
       "RandomizedSearchCV(cv=5, estimator=DecisionTreeRegressor(), n_iter=20, n_jobs=1,\n",
       "                   param_distributions={'max_depth': <scipy.stats._distn_infrastructure.rv_frozen object at 0x7fae1e66a390>,\n",
       "                                        'min_samples_split': <scipy.stats._distn_infrastructure.rv_frozen object at 0x7fae1e66ab90>},\n",
       "                   scoring='neg_mean_squared_error', verbose=1)"
      ]
     },
     "execution_count": 131,
     "metadata": {},
     "output_type": "execute_result"
    }
   ],
   "source": [
    "# randomized search: less expensive \n",
    "\n",
    "from scipy.stats import randint as sp_randint\n",
    "\n",
    "param_dist = {'max_depth': sp_randint(2,16),\n",
    "              'min_samples_split': sp_randint(2,16)}\n",
    "\n",
    "n_iter_search = 20\n",
    "clfrs_mse = RandomizedSearchCV(dt, \n",
    "                                   param_distributions=param_dist,\n",
    "                                   scoring='neg_mean_squared_error',\n",
    "                                   cv=5 , n_jobs=1, verbose=1,\n",
    "                                   n_iter=n_iter_search)\n",
    "clfrs_mse.fit(X_train,y_train)"
   ]
  },
  {
   "cell_type": "code",
   "execution_count": 132,
   "id": "proud-parade",
   "metadata": {},
   "outputs": [
    {
     "name": "stdout",
     "output_type": "stream",
     "text": [
      "{'max_depth': 11, 'min_samples_split': 7}\n",
      "-0.5067143877263265\n"
     ]
    }
   ],
   "source": [
    "clfrs_mse.cv_results_\n",
    "    \n",
    "print(clfrs_mse.best_params_)\n",
    "print(clfrs_mse.best_score_)\n"
   ]
  },
  {
   "cell_type": "code",
   "execution_count": null,
   "id": "restricted-community",
   "metadata": {},
   "outputs": [],
   "source": [
    "# the mae and rmse values for the three models are: (0.4828, 0.5325) for neural network, (0.508, 0.723) for linear regression, and (0.49, 0.50) for decision tree. \n",
    "# while the decision tree outperformed nn in rmse, given that our target variables are highly correlated, I decided to use nn, which is one model that predicts a vector instead of using separate models for each target variable. \n"
   ]
  },
  {
   "cell_type": "markdown",
   "id": "brutal-pharmacy",
   "metadata": {},
   "source": [
    "# simple interface"
   ]
  },
  {
   "cell_type": "code",
   "execution_count": 9,
   "id": "official-ordering",
   "metadata": {},
   "outputs": [
    {
     "name": "stdout",
     "output_type": "stream",
     "text": [
      "Enter 2k threshold value: 0\n",
      "Enter 4k threshold value: 1\n",
      "Enter 6k threshold value: 0\n",
      "500k, 1k, 3k, and 8k values:  [[0.06004192 0.04189022 0.58118715 0.00264491]]\n"
     ]
    }
   ],
   "source": [
    "# taking multiple inputs at a time\n",
    "# and type casting using list() function\n",
    "#x = list(map(float, input(\"Enter 2k, 4k, and 6k values (separate them with commas): \").split(\",\")))\n",
    "#print(\"500k, 1k, 3k, and 8k values: \", x)\n",
    "\n",
    "twok = float(input('Enter 2k threshold value: '))\n",
    "fourk = float(input('Enter 4k threshold value: '))\n",
    "sixk = float(input('Enter 6k threshold value: '))\n",
    "x_test = [[twok, fourk, sixk]]\n",
    "print(\"500k, 1k, 3k, and 8k values: \", dt.predict(x_test))"
   ]
  },
  {
   "cell_type": "markdown",
   "id": "adjustable-diesel",
   "metadata": {},
   "source": [
    "# API using AWS"
   ]
  },
  {
   "cell_type": "code",
   "execution_count": 37,
   "id": "incorrect-vancouver",
   "metadata": {},
   "outputs": [],
   "source": [
    "model.save('concha_nn')"
   ]
  },
  {
   "cell_type": "code",
   "execution_count": 38,
   "id": "dental-breath",
   "metadata": {},
   "outputs": [
    {
     "data": {
      "text/plain": [
       "<tensorflow.python.keras.engine.sequential.Sequential at 0x7fc64b4bc8d0>"
      ]
     },
     "execution_count": 38,
     "metadata": {},
     "output_type": "execute_result"
    }
   ],
   "source": [
    "model"
   ]
  },
  {
   "cell_type": "code",
   "execution_count": 8,
   "id": "regular-workplace",
   "metadata": {},
   "outputs": [
    {
     "name": "stdout",
     "output_type": "stream",
     "text": [
      "WARNING:tensorflow:From /Users/supark/opt/anaconda3/lib/python3.7/site-packages/tensorflow/python/ops/init_ops.py:97: calling GlorotUniform.__init__ (from tensorflow.python.ops.init_ops) with dtype is deprecated and will be removed in a future version.\n",
      "Instructions for updating:\n",
      "Call initializer instance with the dtype argument instead of passing it to the constructor\n",
      "WARNING:tensorflow:From /Users/supark/opt/anaconda3/lib/python3.7/site-packages/tensorflow/python/ops/init_ops.py:1251: calling VarianceScaling.__init__ (from tensorflow.python.ops.init_ops) with dtype is deprecated and will be removed in a future version.\n",
      "Instructions for updating:\n",
      "Call initializer instance with the dtype argument instead of passing it to the constructor\n",
      "WARNING:tensorflow:From /Users/supark/opt/anaconda3/lib/python3.7/site-packages/tensorflow/python/ops/init_ops.py:97: calling Zeros.__init__ (from tensorflow.python.ops.init_ops) with dtype is deprecated and will be removed in a future version.\n",
      "Instructions for updating:\n",
      "Call initializer instance with the dtype argument instead of passing it to the constructor\n"
     ]
    }
   ],
   "source": [
    "from tensorflow import keras\n",
    "nn = keras.models.load_model('concha_nn_downloads')"
   ]
  },
  {
   "cell_type": "code",
   "execution_count": null,
   "id": "minimal-article",
   "metadata": {},
   "outputs": [],
   "source": []
  }
 ],
 "metadata": {
  "kernelspec": {
   "display_name": "Python 3",
   "language": "python",
   "name": "python3"
  },
  "language_info": {
   "codemirror_mode": {
    "name": "ipython",
    "version": 3
   },
   "file_extension": ".py",
   "mimetype": "text/x-python",
   "name": "python",
   "nbconvert_exporter": "python",
   "pygments_lexer": "ipython3",
   "version": "3.7.4"
  }
 },
 "nbformat": 4,
 "nbformat_minor": 5
}
